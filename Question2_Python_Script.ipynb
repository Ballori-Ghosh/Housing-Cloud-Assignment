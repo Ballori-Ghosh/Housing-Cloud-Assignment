{
 "cells": [
  {
   "cell_type": "markdown",
   "metadata": {},
   "source": [
    "### Importing required packages"
   ]
  },
  {
   "cell_type": "code",
   "execution_count": 1,
   "metadata": {},
   "outputs": [],
   "source": [
    "import pandas as pd\n",
    "import numpy as np"
   ]
  },
  {
   "cell_type": "markdown",
   "metadata": {},
   "source": [
    "### Reading the csv data files as pandas dataframes"
   ]
  },
  {
   "cell_type": "code",
   "execution_count": 2,
   "metadata": {},
   "outputs": [],
   "source": [
    "persons_df = pd.read_csv('persons_data.csv')\n",
    "inventory_df = pd.read_csv('inventory_data.csv')\n",
    "majors_df = pd.read_csv('majors_data.csv')\n",
    "occupancy_df = pd.read_csv('occupancy_data.csv')"
   ]
  },
  {
   "cell_type": "markdown",
   "metadata": {},
   "source": [
    "### Checking the columns present in the persons_df"
   ]
  },
  {
   "cell_type": "code",
   "execution_count": 3,
   "metadata": {},
   "outputs": [
    {
     "data": {
      "text/plain": [
       "Index(['personId', 'firstName', 'lastName', 'email', 'dob', 'address',\n",
       "       'majors'],\n",
       "      dtype='object')"
      ]
     },
     "execution_count": 3,
     "metadata": {},
     "output_type": "execute_result"
    }
   ],
   "source": [
    "persons_df.columns"
   ]
  },
  {
   "cell_type": "markdown",
   "metadata": {},
   "source": [
    "### Combining the first and last name of the person to create a new column containing the full name and extracting the state and city from the address and creating separate columns for the same."
   ]
  },
  {
   "cell_type": "code",
   "execution_count": 4,
   "metadata": {},
   "outputs": [],
   "source": [
    "persons_df['name'] = persons_df['firstName'] + \" \" + persons_df['lastName']\n",
    "persons_df[['city','state']] = persons_df[\"address\"].str.extract(r',\\s*([^,]+),\\s*([A-Z]{2})$')"
   ]
  },
  {
   "cell_type": "markdown",
   "metadata": {},
   "source": [
    "### Removing duplicate email ids and persons id from the persons data"
   ]
  },
  {
   "cell_type": "code",
   "execution_count": 5,
   "metadata": {},
   "outputs": [],
   "source": [
    "persons_df = persons_df.drop_duplicates(subset=['email'], keep='first')\n",
    "persons_df = persons_df.drop_duplicates(subset=['personId'], keep='first')\n",
    "persons_df = persons_df.reset_index(drop=True)"
   ]
  },
  {
   "cell_type": "markdown",
   "metadata": {},
   "source": [
    "### Removing duplicate majors in majors data to save the first instance of the major id"
   ]
  },
  {
   "cell_type": "code",
   "execution_count": 6,
   "metadata": {},
   "outputs": [],
   "source": [
    "majors_df = majors_df.drop_duplicates(subset=['name'], keep='first')\n",
    "majors_df = majors_df.reset_index(drop=True)"
   ]
  },
  {
   "cell_type": "markdown",
   "metadata": {},
   "source": [
    "### Fetching majors ID"
   ]
  },
  {
   "cell_type": "code",
   "execution_count": 7,
   "metadata": {},
   "outputs": [],
   "source": [
    "#Split the majors using comma\n",
    "split_majors = persons_df['majors'].str.split(', ',expand=True)\n",
    "\n",
    "#Get the personId with the delimited majors\n",
    "persons_major = pd.concat([persons_df['personId'], split_majors], axis=1)\n",
    "\n",
    "#Change the name of the columns to major_1, major_2, ...\n",
    "persons_major.columns = ['personId'] + [f'major_{i+1}' for i in range(split_majors.shape[1])]\n",
    "\n",
    "count_cols = len(persons_major.columns)\n",
    "\n",
    "#Unpivot the majors column\n",
    "persons_major = persons_major.melt(id_vars=['personId'], value_vars=[f'major_{i+1}' for i in range(split_majors.shape[1])],\n",
    "                         var_name='major_num', value_name='major')\n",
    "\n",
    "#Dropping the rows with null major names\n",
    "persons_major = persons_major.dropna(subset=['major'])\n",
    "\n",
    "#Join with the major df to get the major ID\n",
    "persons_major = persons_major.merge(majors_df, left_on='major', right_on='name', how='left')[['personId','major_num','major','id']]\n",
    "\n",
    "#Concat all the major ID by grouping on person ID \n",
    "persons_major = persons_major.groupby(['personId']).agg({'id': lambda x: ', '.join(x)}).reset_index()"
   ]
  },
  {
   "cell_type": "markdown",
   "metadata": {},
   "source": [
    "### Fetch Bed ID"
   ]
  },
  {
   "cell_type": "code",
   "execution_count": 8,
   "metadata": {},
   "outputs": [],
   "source": [
    "#Fetch bed ID to occupancy data join with inventory df on basis of buildingName, roomName, bedName\n",
    "person_bed = occupancy_df.merge(inventory_df, on=['buildingName','roomName','bedName'], how='left')[['personId','bedId']]\n",
    "\n",
    "#Get Bed ID to the final df\n",
    "final_df = persons_df.merge(persons_major, on='personId', how='left')\n",
    "final_df = final_df.merge(person_bed, on='personId', how='left')\n",
    "final_df.rename(columns={'id': \"majorIds\"}, inplace=True)"
   ]
  },
  {
   "cell_type": "markdown",
   "metadata": {},
   "source": [
    "### There are no zip codes in the data, filling the empty 'zip' column with nan in the final output"
   ]
  },
  {
   "cell_type": "code",
   "execution_count": 9,
   "metadata": {},
   "outputs": [],
   "source": [
    "final_df['zip'] = np.nan"
   ]
  },
  {
   "cell_type": "markdown",
   "metadata": {},
   "source": [
    "### Defining a function to check if the address is valid or not ???"
   ]
  },
  {
   "cell_type": "code",
   "execution_count": 10,
   "metadata": {},
   "outputs": [],
   "source": [
    "import re\n",
    "\n",
    "def is_valid_address(address_string):\n",
    "    city_regex = r'[A-Za-z\\s]+'\n",
    "    state_regex = r'[A-Z]{2}'\n",
    "    postal_code_regex = r'^\\d{5}$'\n",
    "    \n",
    "    try:\n",
    "        parts = address_string.split(',')\n",
    "        \n",
    "        if len(parts) != 3:\n",
    "            return False\n",
    "\n",
    "        street_part = parts[0].strip()\n",
    "        city_part = parts[1].strip()\n",
    "        state_part = parts[2].strip()\n",
    "        state_part, postal_part = state_part.split(' ')\n",
    "        city_match = re.match(city_regex, city_part)\n",
    "        state_match = re.match(state_regex, state_part)\n",
    "        postal_code_match = re.match(postal_code_regex, postal_part)\n",
    "\n",
    "        if city_match and state_match and postal_code_match:\n",
    "            return True\n",
    "        else:\n",
    "            return False\n",
    "    except:\n",
    "        return False\n",
    "\n",
    "final_df['valid_address'] = final_df['address'].apply(is_valid_address)"
   ]
  },
  {
   "cell_type": "markdown",
   "metadata": {},
   "source": [
    "### Only filling the address column if the address is valid else with nan"
   ]
  },
  {
   "cell_type": "code",
   "execution_count": 11,
   "metadata": {},
   "outputs": [],
   "source": [
    "final_df['address1'] = np.where(final_df['valid_address'], final_df['address'], np.nan)\n",
    "final_df['address2'] = np.nan"
   ]
  },
  {
   "cell_type": "markdown",
   "metadata": {},
   "source": [
    "### As we can see all the zip values are nan hence there are no valid addresses"
   ]
  },
  {
   "cell_type": "code",
   "execution_count": 12,
   "metadata": {},
   "outputs": [
    {
     "data": {
      "text/html": [
       "<div>\n",
       "<style scoped>\n",
       "    .dataframe tbody tr th:only-of-type {\n",
       "        vertical-align: middle;\n",
       "    }\n",
       "\n",
       "    .dataframe tbody tr th {\n",
       "        vertical-align: top;\n",
       "    }\n",
       "\n",
       "    .dataframe thead th {\n",
       "        text-align: right;\n",
       "    }\n",
       "</style>\n",
       "<table border=\"1\" class=\"dataframe\">\n",
       "  <thead>\n",
       "    <tr style=\"text-align: right;\">\n",
       "      <th></th>\n",
       "      <th>personId</th>\n",
       "      <th>firstName</th>\n",
       "      <th>lastName</th>\n",
       "      <th>email</th>\n",
       "      <th>dob</th>\n",
       "      <th>address</th>\n",
       "      <th>majors</th>\n",
       "      <th>name</th>\n",
       "      <th>city</th>\n",
       "      <th>state</th>\n",
       "      <th>majorIds</th>\n",
       "      <th>bedId</th>\n",
       "      <th>zip</th>\n",
       "      <th>valid_address</th>\n",
       "      <th>address1</th>\n",
       "      <th>address2</th>\n",
       "    </tr>\n",
       "  </thead>\n",
       "  <tbody>\n",
       "    <tr>\n",
       "      <th>0</th>\n",
       "      <td>7b1fb398-72d7-421e-808c-631a427bfbc4</td>\n",
       "      <td>David</td>\n",
       "      <td>Taylor</td>\n",
       "      <td>david.taylor@example.com</td>\n",
       "      <td>8/15/92</td>\n",
       "      <td>767 Walnut St, Georgetown, OH</td>\n",
       "      <td>Communications</td>\n",
       "      <td>David Taylor</td>\n",
       "      <td>Georgetown</td>\n",
       "      <td>OH</td>\n",
       "      <td>2c6e4248-da4d-4cb3-ac58-3cd04aa203fa</td>\n",
       "      <td>NaN</td>\n",
       "      <td>NaN</td>\n",
       "      <td>False</td>\n",
       "      <td>NaN</td>\n",
       "      <td>NaN</td>\n",
       "    </tr>\n",
       "    <tr>\n",
       "      <th>1</th>\n",
       "      <td>99a4b233-2804-420b-b757-039f0f3cceb7</td>\n",
       "      <td>Jane</td>\n",
       "      <td>Wilson</td>\n",
       "      <td>jane.wilson@example.com</td>\n",
       "      <td>8/20/69</td>\n",
       "      <td>168 Birch St, Riverside, FL</td>\n",
       "      <td>Music, Finance</td>\n",
       "      <td>Jane Wilson</td>\n",
       "      <td>Riverside</td>\n",
       "      <td>FL</td>\n",
       "      <td>e00c66ff-cb22-45b1-a5e8-8b3cde249016, 49f57722...</td>\n",
       "      <td>NaN</td>\n",
       "      <td>NaN</td>\n",
       "      <td>False</td>\n",
       "      <td>NaN</td>\n",
       "      <td>NaN</td>\n",
       "    </tr>\n",
       "    <tr>\n",
       "      <th>2</th>\n",
       "      <td>cc3b2df2-a593-493e-af82-1f0d11c7439b</td>\n",
       "      <td>John</td>\n",
       "      <td>Brown</td>\n",
       "      <td>john.brown@example.com</td>\n",
       "      <td>12/14/67</td>\n",
       "      <td>726 Maple St, Fairview, PA</td>\n",
       "      <td>NaN</td>\n",
       "      <td>John Brown</td>\n",
       "      <td>Fairview</td>\n",
       "      <td>PA</td>\n",
       "      <td>NaN</td>\n",
       "      <td>a32b34cf-0356-4739-ab43-4a9ed70818f8</td>\n",
       "      <td>NaN</td>\n",
       "      <td>False</td>\n",
       "      <td>NaN</td>\n",
       "      <td>NaN</td>\n",
       "    </tr>\n",
       "    <tr>\n",
       "      <th>3</th>\n",
       "      <td>cb669177-4020-4284-a3dc-9a0c312411d4</td>\n",
       "      <td>Linda</td>\n",
       "      <td>Taylor</td>\n",
       "      <td>linda.taylor@example.com</td>\n",
       "      <td>12/4/83</td>\n",
       "      <td>171 Spruce St, Riverside, TX</td>\n",
       "      <td>Social Work, Anthropology</td>\n",
       "      <td>Linda Taylor</td>\n",
       "      <td>Riverside</td>\n",
       "      <td>TX</td>\n",
       "      <td>8402b4cd-a049-4ae7-8649-16af0c4c8c62, 37b765f0...</td>\n",
       "      <td>01f250f6-a3a3-492b-ba52-3f53f4483316</td>\n",
       "      <td>NaN</td>\n",
       "      <td>False</td>\n",
       "      <td>NaN</td>\n",
       "      <td>NaN</td>\n",
       "    </tr>\n",
       "    <tr>\n",
       "      <th>4</th>\n",
       "      <td>ba1443a2-dfeb-441b-b41d-078b36416704</td>\n",
       "      <td>Sarah</td>\n",
       "      <td>Doe</td>\n",
       "      <td>sarah.doe@example.com</td>\n",
       "      <td>8/31/86</td>\n",
       "      <td>987 Walnut St, Georgetown, OH</td>\n",
       "      <td>Psychology, Criminal Justice, History, Foreign...</td>\n",
       "      <td>Sarah Doe</td>\n",
       "      <td>Georgetown</td>\n",
       "      <td>OH</td>\n",
       "      <td>4d0b9e50-43d1-4da0-af2b-97d510bab9e2, b43b2475...</td>\n",
       "      <td>f8ef5ea9-e2bf-4eda-9d7a-c7cdf30dc649</td>\n",
       "      <td>NaN</td>\n",
       "      <td>False</td>\n",
       "      <td>NaN</td>\n",
       "      <td>NaN</td>\n",
       "    </tr>\n",
       "    <tr>\n",
       "      <th>...</th>\n",
       "      <td>...</td>\n",
       "      <td>...</td>\n",
       "      <td>...</td>\n",
       "      <td>...</td>\n",
       "      <td>...</td>\n",
       "      <td>...</td>\n",
       "      <td>...</td>\n",
       "      <td>...</td>\n",
       "      <td>...</td>\n",
       "      <td>...</td>\n",
       "      <td>...</td>\n",
       "      <td>...</td>\n",
       "      <td>...</td>\n",
       "      <td>...</td>\n",
       "      <td>...</td>\n",
       "      <td>...</td>\n",
       "    </tr>\n",
       "    <tr>\n",
       "      <th>95</th>\n",
       "      <td>2045e65b-0845-4d48-88f3-19c708a836cf</td>\n",
       "      <td>Michael</td>\n",
       "      <td>Davis</td>\n",
       "      <td>michael.davis@example.com</td>\n",
       "      <td>4/24/91</td>\n",
       "      <td>462 Walnut St, Madison, IL</td>\n",
       "      <td>Sociology, Economics, Computer Science</td>\n",
       "      <td>Michael Davis</td>\n",
       "      <td>Madison</td>\n",
       "      <td>IL</td>\n",
       "      <td>dda33b53-0fff-4371-8a45-35a2192e86e8, 2c4e188e...</td>\n",
       "      <td>NaN</td>\n",
       "      <td>NaN</td>\n",
       "      <td>False</td>\n",
       "      <td>NaN</td>\n",
       "      <td>NaN</td>\n",
       "    </tr>\n",
       "    <tr>\n",
       "      <th>96</th>\n",
       "      <td>c4d33385-848f-42f6-843b-220fa0b0f8fc</td>\n",
       "      <td>Michael</td>\n",
       "      <td>Williams</td>\n",
       "      <td>michael.williams@example.com</td>\n",
       "      <td>8/8/94</td>\n",
       "      <td>847 Walnut St, Madison, TX</td>\n",
       "      <td>Urban Planning, Architecture</td>\n",
       "      <td>Michael Williams</td>\n",
       "      <td>Madison</td>\n",
       "      <td>TX</td>\n",
       "      <td>fa7f1f45-106f-4e8d-bd8c-cce0fd276256, e0bad25d...</td>\n",
       "      <td>3a0cd40a-bd21-4359-9b36-c4bf30380f9b</td>\n",
       "      <td>NaN</td>\n",
       "      <td>False</td>\n",
       "      <td>NaN</td>\n",
       "      <td>NaN</td>\n",
       "    </tr>\n",
       "    <tr>\n",
       "      <th>97</th>\n",
       "      <td>c4a82bb0-ba9d-446f-a121-ba7d2996c39e</td>\n",
       "      <td>Jane</td>\n",
       "      <td>Taylor</td>\n",
       "      <td>jane.taylor@example.com</td>\n",
       "      <td>5/29/55</td>\n",
       "      <td>766 Cedar St, Madison, FL</td>\n",
       "      <td>Sociology, Biology, Agriculture, Art</td>\n",
       "      <td>Jane Taylor</td>\n",
       "      <td>Madison</td>\n",
       "      <td>FL</td>\n",
       "      <td>dda33b53-0fff-4371-8a45-35a2192e86e8, b33ae65d...</td>\n",
       "      <td>NaN</td>\n",
       "      <td>NaN</td>\n",
       "      <td>False</td>\n",
       "      <td>NaN</td>\n",
       "      <td>NaN</td>\n",
       "    </tr>\n",
       "    <tr>\n",
       "      <th>98</th>\n",
       "      <td>0a10e180-a33a-4d04-8519-ae951f56b478</td>\n",
       "      <td>Sarah</td>\n",
       "      <td>Johnson</td>\n",
       "      <td>sarah.johnson@example.com</td>\n",
       "      <td>12/18/99</td>\n",
       "      <td>719 Maple St, Madison, CA</td>\n",
       "      <td>Physics, Biology, History, Social Work, Mathem...</td>\n",
       "      <td>Sarah Johnson</td>\n",
       "      <td>Madison</td>\n",
       "      <td>CA</td>\n",
       "      <td>9dd4dfda-b0d2-4d4a-8642-a44db00f4a15, b33ae65d...</td>\n",
       "      <td>NaN</td>\n",
       "      <td>NaN</td>\n",
       "      <td>False</td>\n",
       "      <td>NaN</td>\n",
       "      <td>NaN</td>\n",
       "    </tr>\n",
       "    <tr>\n",
       "      <th>99</th>\n",
       "      <td>57101157-bd0a-4615-8778-df69fe8360c6</td>\n",
       "      <td>Sarah</td>\n",
       "      <td>Miller</td>\n",
       "      <td>sarah.miller@example.com</td>\n",
       "      <td>6/24/50</td>\n",
       "      <td>710 Elm St, Riverside, OH</td>\n",
       "      <td>Psychology</td>\n",
       "      <td>Sarah Miller</td>\n",
       "      <td>Riverside</td>\n",
       "      <td>OH</td>\n",
       "      <td>4d0b9e50-43d1-4da0-af2b-97d510bab9e2</td>\n",
       "      <td>NaN</td>\n",
       "      <td>NaN</td>\n",
       "      <td>False</td>\n",
       "      <td>NaN</td>\n",
       "      <td>NaN</td>\n",
       "    </tr>\n",
       "  </tbody>\n",
       "</table>\n",
       "<p>100 rows × 16 columns</p>\n",
       "</div>"
      ],
      "text/plain": [
       "                                personId firstName  lastName  \\\n",
       "0   7b1fb398-72d7-421e-808c-631a427bfbc4     David    Taylor   \n",
       "1   99a4b233-2804-420b-b757-039f0f3cceb7      Jane    Wilson   \n",
       "2   cc3b2df2-a593-493e-af82-1f0d11c7439b      John     Brown   \n",
       "3   cb669177-4020-4284-a3dc-9a0c312411d4     Linda    Taylor   \n",
       "4   ba1443a2-dfeb-441b-b41d-078b36416704     Sarah       Doe   \n",
       "..                                   ...       ...       ...   \n",
       "95  2045e65b-0845-4d48-88f3-19c708a836cf   Michael     Davis   \n",
       "96  c4d33385-848f-42f6-843b-220fa0b0f8fc   Michael  Williams   \n",
       "97  c4a82bb0-ba9d-446f-a121-ba7d2996c39e      Jane    Taylor   \n",
       "98  0a10e180-a33a-4d04-8519-ae951f56b478     Sarah   Johnson   \n",
       "99  57101157-bd0a-4615-8778-df69fe8360c6     Sarah    Miller   \n",
       "\n",
       "                           email       dob                        address  \\\n",
       "0       david.taylor@example.com   8/15/92  767 Walnut St, Georgetown, OH   \n",
       "1        jane.wilson@example.com   8/20/69    168 Birch St, Riverside, FL   \n",
       "2         john.brown@example.com  12/14/67     726 Maple St, Fairview, PA   \n",
       "3       linda.taylor@example.com   12/4/83   171 Spruce St, Riverside, TX   \n",
       "4          sarah.doe@example.com   8/31/86  987 Walnut St, Georgetown, OH   \n",
       "..                           ...       ...                            ...   \n",
       "95     michael.davis@example.com   4/24/91     462 Walnut St, Madison, IL   \n",
       "96  michael.williams@example.com    8/8/94     847 Walnut St, Madison, TX   \n",
       "97       jane.taylor@example.com   5/29/55      766 Cedar St, Madison, FL   \n",
       "98     sarah.johnson@example.com  12/18/99      719 Maple St, Madison, CA   \n",
       "99      sarah.miller@example.com   6/24/50      710 Elm St, Riverside, OH   \n",
       "\n",
       "                                               majors              name  \\\n",
       "0                                      Communications      David Taylor   \n",
       "1                                      Music, Finance       Jane Wilson   \n",
       "2                                                 NaN        John Brown   \n",
       "3                           Social Work, Anthropology      Linda Taylor   \n",
       "4   Psychology, Criminal Justice, History, Foreign...         Sarah Doe   \n",
       "..                                                ...               ...   \n",
       "95             Sociology, Economics, Computer Science     Michael Davis   \n",
       "96                       Urban Planning, Architecture  Michael Williams   \n",
       "97               Sociology, Biology, Agriculture, Art       Jane Taylor   \n",
       "98  Physics, Biology, History, Social Work, Mathem...     Sarah Johnson   \n",
       "99                                         Psychology      Sarah Miller   \n",
       "\n",
       "          city state                                           majorIds  \\\n",
       "0   Georgetown    OH               2c6e4248-da4d-4cb3-ac58-3cd04aa203fa   \n",
       "1    Riverside    FL  e00c66ff-cb22-45b1-a5e8-8b3cde249016, 49f57722...   \n",
       "2     Fairview    PA                                                NaN   \n",
       "3    Riverside    TX  8402b4cd-a049-4ae7-8649-16af0c4c8c62, 37b765f0...   \n",
       "4   Georgetown    OH  4d0b9e50-43d1-4da0-af2b-97d510bab9e2, b43b2475...   \n",
       "..         ...   ...                                                ...   \n",
       "95     Madison    IL  dda33b53-0fff-4371-8a45-35a2192e86e8, 2c4e188e...   \n",
       "96     Madison    TX  fa7f1f45-106f-4e8d-bd8c-cce0fd276256, e0bad25d...   \n",
       "97     Madison    FL  dda33b53-0fff-4371-8a45-35a2192e86e8, b33ae65d...   \n",
       "98     Madison    CA  9dd4dfda-b0d2-4d4a-8642-a44db00f4a15, b33ae65d...   \n",
       "99   Riverside    OH               4d0b9e50-43d1-4da0-af2b-97d510bab9e2   \n",
       "\n",
       "                                   bedId  zip  valid_address address1  \\\n",
       "0                                    NaN  NaN          False      NaN   \n",
       "1                                    NaN  NaN          False      NaN   \n",
       "2   a32b34cf-0356-4739-ab43-4a9ed70818f8  NaN          False      NaN   \n",
       "3   01f250f6-a3a3-492b-ba52-3f53f4483316  NaN          False      NaN   \n",
       "4   f8ef5ea9-e2bf-4eda-9d7a-c7cdf30dc649  NaN          False      NaN   \n",
       "..                                   ...  ...            ...      ...   \n",
       "95                                   NaN  NaN          False      NaN   \n",
       "96  3a0cd40a-bd21-4359-9b36-c4bf30380f9b  NaN          False      NaN   \n",
       "97                                   NaN  NaN          False      NaN   \n",
       "98                                   NaN  NaN          False      NaN   \n",
       "99                                   NaN  NaN          False      NaN   \n",
       "\n",
       "    address2  \n",
       "0        NaN  \n",
       "1        NaN  \n",
       "2        NaN  \n",
       "3        NaN  \n",
       "4        NaN  \n",
       "..       ...  \n",
       "95       NaN  \n",
       "96       NaN  \n",
       "97       NaN  \n",
       "98       NaN  \n",
       "99       NaN  \n",
       "\n",
       "[100 rows x 16 columns]"
      ]
     },
     "execution_count": 12,
     "metadata": {},
     "output_type": "execute_result"
    }
   ],
   "source": [
    "final_df"
   ]
  },
  {
   "cell_type": "code",
   "execution_count": 13,
   "metadata": {},
   "outputs": [],
   "source": [
    "#Convert dob to pd datetime, this may give results like 55 to 2055 instead of 1955\n",
    "final_df['dob'] = pd.to_datetime(final_df['dob'], format=\"%m/%d/%y\")\n",
    "\n",
    "#To fix the above problem we check if year is beyond 2024 then subtract 100 years from the dob to get desired result\n",
    "final_df['dob'] = final_df['dob'].apply(lambda x: x if x.year <= 2024 else x.replace(year=x.year - 100))"
   ]
  },
  {
   "cell_type": "code",
   "execution_count": 14,
   "metadata": {},
   "outputs": [],
   "source": [
    "final_df[['personId','name','email','dob','address1','address2','city','state','zip','majorIds','bedId']]\\\n",
    ".to_csv('question2_solution.csv', index=False)"
   ]
  }
 ],
 "metadata": {
  "kernelspec": {
   "display_name": "Python 3 (ipykernel)",
   "language": "python",
   "name": "python3"
  },
  "language_info": {
   "codemirror_mode": {
    "name": "ipython",
    "version": 3
   },
   "file_extension": ".py",
   "mimetype": "text/x-python",
   "name": "python",
   "nbconvert_exporter": "python",
   "pygments_lexer": "ipython3",
   "version": "3.9.10"
  }
 },
 "nbformat": 4,
 "nbformat_minor": 2
}
